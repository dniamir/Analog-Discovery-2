{
 "cells": [
  {
   "cell_type": "code",
   "execution_count": null,
   "metadata": {},
   "outputs": [],
   "source": [
    "import numpy as np\n",
    "import pandas as pd\n",
    "import time\n",
    "import os\n",
    "import matplotlib.pyplot as plt\n",
    "# import dwf\n",
    "\n",
    "from ctypes import *\n",
    "\n",
    "%load_ext autoreload\n",
    "%autoreload 2"
   ]
  },
  {
   "cell_type": "code",
   "execution_count": null,
   "metadata": {},
   "outputs": [],
   "source": [
    "from chip_systems import AD2"
   ]
  },
  {
   "cell_type": "code",
   "execution_count": null,
   "metadata": {},
   "outputs": [],
   "source": [
    "interface = AD2.AD2_I2C(voltage=0, pin=0)\n",
    "# Green - DIO0 - SCL\n",
    "# Yellow - DIO1 - SDA"
   ]
  },
  {
   "cell_type": "code",
   "execution_count": null,
   "metadata": {},
   "outputs": [],
   "source": [
    "# Check BME680 WHOAMI - should be 97\n",
    "interface.ReadRegister(0b1110110, 0xD0, bytes_to_read=1)"
   ]
  },
  {
   "cell_type": "code",
   "execution_count": null,
   "metadata": {},
   "outputs": [],
   "source": [
    "def read_register(register):\n",
    "    command_bit = 0xA0\n",
    "    reg_val = interface.ReadRegister(0x29, command_bit | register, bytes_to_read=1)[0]\n",
    "    print(reg_val, '{:08b}'.format(reg_val), hex(reg_val))"
   ]
  },
  {
   "cell_type": "code",
   "execution_count": null,
   "metadata": {},
   "outputs": [],
   "source": [
    "def write_register(register, reg_val):\n",
    "    command_bit = 0xA0\n",
    "    interface.WriteRegister(0x29, command_bit | register, value=reg_val)"
   ]
  },
  {
   "cell_type": "code",
   "execution_count": null,
   "metadata": {},
   "outputs": [],
   "source": [
    "# Should be 0x50\n",
    "read_register(0x12)"
   ]
  },
  {
   "cell_type": "code",
   "execution_count": null,
   "metadata": {},
   "outputs": [],
   "source": [
    "# Should be 0x50\n",
    "read_register(0x01)"
   ]
  },
  {
   "cell_type": "code",
   "execution_count": null,
   "metadata": {},
   "outputs": [],
   "source": [
    "# Perform System Reset\n",
    "write_register(register=0x01, reg_val=0b10010010)"
   ]
  },
  {
   "cell_type": "code",
   "execution_count": null,
   "metadata": {},
   "outputs": [],
   "source": [
    "read_register(0x00)"
   ]
  },
  {
   "cell_type": "code",
   "execution_count": null,
   "metadata": {},
   "outputs": [],
   "source": [
    "write_register(register=0x00, reg_val=0b00000011)  # Set PON to 1 and AEN to 1 - Generates 320uA"
   ]
  },
  {
   "cell_type": "code",
   "execution_count": null,
   "metadata": {},
   "outputs": [],
   "source": [
    "write_register(register=0x01, reg_val=0b00010010)  # Set AGAIN to 01 and ATIME to 010"
   ]
  },
  {
   "cell_type": "code",
   "execution_count": null,
   "metadata": {},
   "outputs": [],
   "source": [
    "write_register(register=0x00, reg_val=0b10000011)  # Set AIEN to 0 and NPIEN to 1 - Generates another 320uA"
   ]
  },
  {
   "cell_type": "code",
   "execution_count": null,
   "metadata": {},
   "outputs": [],
   "source": [
    "interface.ReadRegister(0x29, 0b11100100, bytes_to_read=1)  # Enable Interrupt"
   ]
  }
 ],
 "metadata": {
  "kernelspec": {
   "display_name": "Python 3.10.6 64-bit",
   "language": "python",
   "name": "python3"
  },
  "language_info": {
   "codemirror_mode": {
    "name": "ipython",
    "version": 3
   },
   "file_extension": ".py",
   "mimetype": "text/x-python",
   "name": "python",
   "nbconvert_exporter": "python",
   "pygments_lexer": "ipython3",
   "version": "3.10.6"
  },
  "toc": {
   "base_numbering": 1,
   "nav_menu": {},
   "number_sections": true,
   "sideBar": true,
   "skip_h1_title": false,
   "title_cell": "Table of Contents",
   "title_sidebar": "Contents",
   "toc_cell": false,
   "toc_position": {
    "height": "calc(100% - 180px)",
    "left": "10px",
    "top": "150px",
    "width": "248.4px"
   },
   "toc_section_display": true,
   "toc_window_display": true
  },
  "vscode": {
   "interpreter": {
    "hash": "851e5d85b00d87746c91ffd2e467490f5a5752fb8cf07f02e24eb16fa6f8dc87"
   }
  }
 },
 "nbformat": 4,
 "nbformat_minor": 4
}
