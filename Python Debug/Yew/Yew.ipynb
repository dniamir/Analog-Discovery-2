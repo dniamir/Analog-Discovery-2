{
 "cells": [
  {
   "cell_type": "code",
   "execution_count": 1,
   "metadata": {},
   "outputs": [],
   "source": [
    "import numpy as np\n",
    "import pandas as pd\n",
    "import time\n",
    "import os\n",
    "import matplotlib.pyplot as plt\n",
    "# import dwf\n",
    "\n",
    "from ctypes import *\n",
    "\n",
    "%load_ext autoreload\n",
    "%autoreload 2"
   ]
  },
  {
   "cell_type": "code",
   "execution_count": 2,
   "metadata": {},
   "outputs": [],
   "source": [
    "from chip_systems import AD2\n",
    "from chip_systems import ProjectSystem\n",
    "from chip_systems import Biosensors\n",
    "from chip_systems import Magnetometers\n",
    "from chip_systems import InertialSensors"
   ]
  },
  {
   "cell_type": "code",
   "execution_count": null,
   "metadata": {},
   "outputs": [],
   "source": [
    "interface = AD2.AD2_I2C(voltage=3.3, pin=0)"
   ]
  },
  {
   "cell_type": "code",
   "execution_count": null,
   "metadata": {},
   "outputs": [],
   "source": [
    "interface = AD2.AD2_I2C(voltage=0, pin=0)"
   ]
  },
  {
   "cell_type": "markdown",
   "metadata": {},
   "source": [
    "## IMU"
   ]
  },
  {
   "cell_type": "code",
   "execution_count": null,
   "metadata": {},
   "outputs": [],
   "source": [
    "imu = InertialSensors.ICM20649(interface=interface)"
   ]
  },
  {
   "cell_type": "code",
   "execution_count": 5,
   "metadata": {},
   "outputs": [
    {
     "data": {
      "text/plain": [
       "'0x68'"
      ]
     },
     "execution_count": 5,
     "metadata": {},
     "output_type": "execute_result"
    }
   ],
   "source": [
    "hex(0b1101000)"
   ]
  },
  {
   "cell_type": "code",
   "execution_count": null,
   "metadata": {},
   "outputs": [],
   "source": [
    "# Should be 0xE1 or 225\n",
    "imu.ReadRegisters('WHO_AM_I')"
   ]
  },
  {
   "cell_type": "code",
   "execution_count": null,
   "metadata": {},
   "outputs": [],
   "source": [
    "SetupIMU(imu)"
   ]
  },
  {
   "cell_type": "code",
   "execution_count": null,
   "metadata": {},
   "outputs": [],
   "source": [
    "ax = imu.ReadAxMgee()\n",
    "ay = imu.ReadAyMgee()\n",
    "az = imu.ReadAzMgee()\n",
    "print('%.2f %.2f %.2f' % (ax, ay, az))"
   ]
  },
  {
   "cell_type": "markdown",
   "metadata": {},
   "source": [
    "## Magnetometer"
   ]
  },
  {
   "cell_type": "code",
   "execution_count": null,
   "metadata": {},
   "outputs": [],
   "source": [
    "magnetometer = Magnetometers.BMM150(interface=interface)"
   ]
  },
  {
   "cell_type": "code",
   "execution_count": null,
   "metadata": {},
   "outputs": [],
   "source": [
    "magnetometer.WriteRegisters('Power Control Bit', 1)\n",
    "magnetometer.ReadRegisters(0x4B)"
   ]
  },
  {
   "cell_type": "code",
   "execution_count": null,
   "metadata": {},
   "outputs": [],
   "source": [
    "# Should be 0x32 - Can only be read after chip is turned on\n",
    "hex(magnetometer.ReadRegisters(0x40)[0])"
   ]
  },
  {
   "cell_type": "code",
   "execution_count": null,
   "metadata": {},
   "outputs": [],
   "source": [
    "# Enter Sleep Mode (0x4C)\n",
    "magnetometer.WriteRegisters('Opmode', 0b11)\n",
    "\n",
    "time.sleep(1)\n",
    "# Enter Normal Mode\n",
    "magnetometer.WriteRegisters('Opmode', 0b00)\n",
    "\n",
    "# # Enter Forced Mode\n",
    "# magnetometer.WriteRegisters('Opmode', 0b01)"
   ]
  },
  {
   "cell_type": "code",
   "execution_count": null,
   "metadata": {},
   "outputs": [],
   "source": [
    "# Set Data Rate (ODR) (0x4C)\n",
    "# magnetometer.WriteRegisters('Data Rate', 0b100)  # 15 Hz\n",
    "magnetometer.WriteRegisters('Data Rate', 0b000)  # 10 Hz"
   ]
  },
  {
   "cell_type": "code",
   "execution_count": null,
   "metadata": {},
   "outputs": [],
   "source": [
    "# Set output rate (0x51, 0x52)\n",
    "magnetometer.WriteRegisters(0x51, 9)  # X/Y Axis\n",
    "magnetometer.WriteRegisters(0x52, 15)  # Z Axis"
   ]
  },
  {
   "cell_type": "code",
   "execution_count": null,
   "metadata": {},
   "outputs": [],
   "source": [
    "# Turn on All 3 Axes (0x4E)\n",
    "magnetometer.WriteRegisters('Channel X', 0)  # Enable is 0\n",
    "magnetometer.WriteRegisters('Channel Y', 0)  # Enable is 0\n",
    "magnetometer.WriteRegisters('Channel Z', 0)  # Enable is 0"
   ]
  },
  {
   "cell_type": "code",
   "execution_count": null,
   "metadata": {},
   "outputs": [],
   "source": [
    "mxyz = magnetometer.ReadRegisters(0x42, 6)[1]\n",
    "mx = mxyz[8:16] + mxyz[0:5]\n",
    "my = mxyz[24:32] + mxyz[16:21]\n",
    "mz = mxyz[40:48] + mxyz[32:37]\n",
    "\n",
    "mx = ProjectSystem.TwosComp(int(mx, 2), bits=13)\n",
    "my = ProjectSystem.TwosComp(int(my, 2), bits=13)\n",
    "mz = ProjectSystem.TwosComp(int(mz, 2), bits=13)\n",
    "\n",
    "print(mx, my, mz)"
   ]
  },
  {
   "cell_type": "code",
   "execution_count": null,
   "metadata": {},
   "outputs": [],
   "source": [
    "mxyz = magnetometer.ReadRegisters(0x42, 6)[1]\n",
    "mx = mxyz[8:16] + mxyz[0:5]\n",
    "my = mxyz[24:32] + mxyz[16:21]\n",
    "mz = mxyz[40:48] + mxyz[32:37]\n",
    "\n",
    "# mx = ProjectSystem.TwosComp(int(mx, 2), bits=13)\n",
    "# my = ProjectSystem.TwosComp(int(my, 2), bits=13)\n",
    "# mz = ProjectSystem.TwosComp(int(mz, 2), bits=13)\n",
    "\n",
    "print(mx, my, mz)"
   ]
  },
  {
   "cell_type": "code",
   "execution_count": null,
   "metadata": {},
   "outputs": [],
   "source": [
    "mxyz"
   ]
  },
  {
   "cell_type": "code",
   "execution_count": null,
   "metadata": {},
   "outputs": [],
   "source": [
    "len(mx)"
   ]
  },
  {
   "cell_type": "code",
   "execution_count": null,
   "metadata": {},
   "outputs": [],
   "source": [
    "int(mx, 2)"
   ]
  },
  {
   "cell_type": "code",
   "execution_count": null,
   "metadata": {},
   "outputs": [],
   "source": [
    "magnetometer.ReadRegisters(0x42)"
   ]
  },
  {
   "cell_type": "code",
   "execution_count": null,
   "metadata": {},
   "outputs": [],
   "source": [
    "magnetometer.ReadRegisters(0x43)"
   ]
  },
  {
   "cell_type": "code",
   "execution_count": null,
   "metadata": {},
   "outputs": [],
   "source": [
    "magnetometer.ReadRegisters(0x4E)"
   ]
  },
  {
   "cell_type": "code",
   "execution_count": null,
   "metadata": {},
   "outputs": [],
   "source": [
    "magnetometer.ReadRegisters(0x52)"
   ]
  },
  {
   "cell_type": "code",
   "execution_count": null,
   "metadata": {},
   "outputs": [],
   "source": [
    "magnetometer.ReadRegisters(0x4C)"
   ]
  },
  {
   "cell_type": "code",
   "execution_count": null,
   "metadata": {},
   "outputs": [],
   "source": [
    "magnetometer.ReadRegisters(0x48)"
   ]
  },
  {
   "cell_type": "code",
   "execution_count": null,
   "metadata": {},
   "outputs": [],
   "source": [
    "magnetometer.ReadRegisters(0x4A)"
   ]
  },
  {
   "cell_type": "code",
   "execution_count": null,
   "metadata": {},
   "outputs": [],
   "source": [
    "magnetometer.ReadRegisters(0x4D)"
   ]
  },
  {
   "cell_type": "code",
   "execution_count": null,
   "metadata": {},
   "outputs": [],
   "source": [
    "# Soft Reset\n",
    "magnetometer.ReadRegisters(0x4B)\n",
    "magnetometer.WriteRegisters(0x4B, 0b10000010)\n",
    "magnetometer.ReadRegisters(0x4B)"
   ]
  },
  {
   "cell_type": "code",
   "execution_count": null,
   "metadata": {},
   "outputs": [],
   "source": [
    "# Perform Self test\n",
    "\n",
    "# Enter Sleep Mode (0x4C)\n",
    "magnetometer.WriteRegisters('Opmode', 0b11)\n",
    "\n",
    "time.sleep(1)\n",
    "\n",
    "magnetometer.WriteRegisters('Self Test', 1)"
   ]
  },
  {
   "cell_type": "code",
   "execution_count": null,
   "metadata": {},
   "outputs": [],
   "source": [
    "magnetometer.ReadRegisters(0x42)"
   ]
  },
  {
   "cell_type": "code",
   "execution_count": null,
   "metadata": {},
   "outputs": [],
   "source": [
    "magnetometer.ReadRegisters(0x44)"
   ]
  },
  {
   "cell_type": "code",
   "execution_count": null,
   "metadata": {},
   "outputs": [],
   "source": [
    "magnetometer.ReadRegisters(0x46)"
   ]
  },
  {
   "cell_type": "code",
   "execution_count": null,
   "metadata": {},
   "outputs": [],
   "source": [
    "# Trim Registers\n",
    "BMM150_DIG_X1 = 0x5D\n",
    "BMM150_DIG_Y1 = 0x5E\n",
    "BMM150_DIG_Z4_LSB = 0x62\n",
    "BMM150_DIG_Z4_MSB = 0x63\n",
    "BMM150_DIG_X2 = 0x64\n",
    "BMM150_DIG_Y2 = 0x65\n",
    "BMM150_DIG_Z2_LSB = 0x68\n",
    "BMM150_DIG_Z2_MSB = 0x69\n",
    "BMM150_DIG_Z1_LSB = 0x6A\n",
    "BMM150_DIG_Z1_MSB = 0x6B\n",
    "BMM150_DIG_XYZ1_LSB = 0x6C\n",
    "BMM150_DIG_XYZ1_MSB = 0x6D\n",
    "BMM150_DIG_Z3_LSB = 0x6E\n",
    "BMM150_DIG_Z3_MSB = 0x6F\n",
    "BMM150_DIG_XY2 = 0x70\n",
    "BMM150_DIG_XY1 = 0x71"
   ]
  },
  {
   "cell_type": "code",
   "execution_count": null,
   "metadata": {},
   "outputs": [],
   "source": [
    "magnetometer.ReadRegisters(0x4C)"
   ]
  },
  {
   "cell_type": "code",
   "execution_count": null,
   "metadata": {},
   "outputs": [],
   "source": [
    "magnetometer.ReadRegisters(0x40)"
   ]
  },
  {
   "cell_type": "code",
   "execution_count": null,
   "metadata": {},
   "outputs": [],
   "source": [
    "interface.SetAnalogOut(0, 0)"
   ]
  },
  {
   "cell_type": "markdown",
   "metadata": {},
   "source": [
    "## Helper Functions"
   ]
  },
  {
   "cell_type": "code",
   "execution_count": null,
   "metadata": {},
   "outputs": [],
   "source": [
    "def SetupIMU(imu):\n",
    "\n",
    "    imu.WriteRegisters('DEVICE_RESET', 1)\n",
    "    time.sleep(0.2)\n",
    "\n",
    "    imu.WriteRegisters('USER_BANK', 0)\n",
    "    imu.WriteRegisters('SLEEP', 0)\n",
    "    imu.WriteRegisters('DISABLE_ACCEL', 0)\n",
    "    imu.WriteRegisters('DISABLE_GYRO', 0)\n",
    "    time.sleep(0.2)\n",
    "\n",
    "    SetupGyro(imu)\n",
    "    SetupAccel(imu)\n",
    "    SetupTemp(imu)\n",
    "\n",
    "def SetupAccel(imu):\n",
    "\n",
    "    imu.WriteRegisters('ACCEL_FS_SEL', 0)\n",
    "    imu.WriteRegisters('ACCEL_FCHOICE', 1)\n",
    "    imu.WriteRegisters('ACCEL_DLPFCFG', 0)\n",
    "    imu.WriteRegisters('ACCEL_SMPLRT_DIV_1', 0)\n",
    "    imu.WriteRegisters('ACCEL_SMPLRT_DIV_2', 1)\n",
    "    time.sleep(0.2)\n",
    "\n",
    "def SetupGyro(imu):\n",
    "\n",
    "    imu.WriteRegisters('USER_BANK', 2)\n",
    "    imu.WriteRegisters('GYRO_FS_SEL', 0)\n",
    "    imu.WriteRegisters('GYRO_FCHOICE', 1)\n",
    "    imu.WriteRegisters('GYRO_DLPFCFG', 0)\n",
    "    imu.WriteRegisters('GYRO_SMPLRT_DIV', 1)\n",
    "    time.sleep(0.2)\n",
    "\n",
    "def SetupTemp(imu):\n",
    "    imu.WriteRegisters('TEMP_DLPFCFG', 2)"
   ]
  }
 ],
 "metadata": {
  "kernelspec": {
   "display_name": "Python 3",
   "language": "python",
   "name": "python3"
  },
  "language_info": {
   "codemirror_mode": {
    "name": "ipython",
    "version": 3
   },
   "file_extension": ".py",
   "mimetype": "text/x-python",
   "name": "python",
   "nbconvert_exporter": "python",
   "pygments_lexer": "ipython3",
   "version": "3.8.5"
  },
  "toc": {
   "base_numbering": 1,
   "nav_menu": {},
   "number_sections": true,
   "sideBar": true,
   "skip_h1_title": false,
   "title_cell": "Table of Contents",
   "title_sidebar": "Contents",
   "toc_cell": false,
   "toc_position": {
    "height": "calc(100% - 180px)",
    "left": "10px",
    "top": "150px",
    "width": "248.4px"
   },
   "toc_section_display": true,
   "toc_window_display": true
  }
 },
 "nbformat": 4,
 "nbformat_minor": 4
}
