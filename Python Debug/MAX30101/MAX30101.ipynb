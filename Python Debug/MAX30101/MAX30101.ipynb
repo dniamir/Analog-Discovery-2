{
 "cells": [
  {
   "cell_type": "code",
   "execution_count": null,
   "metadata": {},
   "outputs": [],
   "source": [
    "import numpy as np\n",
    "import pandas as pd\n",
    "import time\n",
    "import os\n",
    "import matplotlib.pyplot as plt\n",
    "# import dwf\n",
    "\n",
    "from ctypes import *\n",
    "\n",
    "%load_ext autoreload\n",
    "%autoreload 2"
   ]
  },
  {
   "cell_type": "code",
   "execution_count": null,
   "metadata": {},
   "outputs": [],
   "source": [
    "hex(0b1101000)"
   ]
  },
  {
   "cell_type": "code",
   "execution_count": null,
   "metadata": {},
   "outputs": [],
   "source": [
    "hex(225)"
   ]
  },
  {
   "cell_type": "code",
   "execution_count": null,
   "metadata": {},
   "outputs": [],
   "source": [
    "import sys\n",
    "sys.platform"
   ]
  },
  {
   "cell_type": "code",
   "execution_count": null,
   "metadata": {},
   "outputs": [],
   "source": [
    "from chip_systems import AD2\n",
    "from chip_systems import ProjectSystem\n",
    "from chip_systems import Biosensors"
   ]
  },
  {
   "cell_type": "code",
   "execution_count": null,
   "metadata": {},
   "outputs": [],
   "source": [
    "interface = AD2.AD2_I2C(voltage=3.3, pin=0)"
   ]
  },
  {
   "cell_type": "code",
   "execution_count": null,
   "metadata": {},
   "outputs": [],
   "source": [
    "device = Biosensors.MAX30101(interface=interface)"
   ]
  },
  {
   "cell_type": "code",
   "execution_count": null,
   "metadata": {},
   "outputs": [],
   "source": [
    "device.ReadTemperature()"
   ]
  },
  {
   "cell_type": "code",
   "execution_count": null,
   "metadata": {},
   "outputs": [],
   "source": [
    "interface.SetAnalogOut(0, 0)"
   ]
  },
  {
   "cell_type": "code",
   "execution_count": null,
   "metadata": {},
   "outputs": [],
   "source": [
    "iNak = c_int()\n",
    "rgRX = (c_ubyte*6)()\n",
    "\n",
    "hdwf = c_int()\n",
    "\n",
    "dwf = cdll.LoadLibrary(\"dwf.dll\")\n",
    "\n",
    "class ad2():\n",
    "    \n",
    "    def __init__(self):\n",
    "        self.dwf = dwf\n",
    "        self.dwf.FDwfDeviceOpen(c_int(-1), byref(hdwf))\n",
    "    \n",
    "    def set_analog_out(self, voltage, pin=1):\n",
    "        \n",
    "        self.dwf.FDwfAnalogIOChannelNodeSet(hdwf, c_int(pin), c_int(0), c_double(True))  # enable positive supply\n",
    "        self.dwf.FDwfAnalogIOChannelNodeSet(hdwf, c_int(pin), c_int(1), c_double(voltage))\n",
    "        self.dwf.FDwfAnalogIOEnableSet(hdwf, c_int(True))  # master enable\n",
    "        \n",
    "    def setup_i2c(self, scl_pin, sda_pin):\n",
    "        \n",
    "        # set I2C frequency and pins\n",
    "        self.dwf.FDwfDigitalI2cRateSet(hdwf, c_double(1e5)) # 100kHz\n",
    "\n",
    "        # pin numbers need to be checked for use with AD or AD2 device\n",
    "        self.dwf.FDwfDigitalI2cSclSet(hdwf, c_int(scl_pin - 24))\n",
    "        self.dwf.FDwfDigitalI2cSdaSet(hdwf, c_int(sda_pin - 24))\n",
    "\n",
    "        # initialize I2C (check for correct pull-ups)\n",
    "        self.dwf.FDwfDigitalI2cClear(hdwf, byref(iNak))\n",
    "        if iNak.value == 0:\n",
    "            print('I2C bus error. Check the pull-ups')\n",
    "        time.sleep(0.1)\n",
    "                \n",
    "    def read_i2c(self, address, register):\n",
    "        rgRX = (c_ubyte*6)()\n",
    "        self.dwf.FDwfDigitalI2cWriteRead(hdwf, c_int(address << 1), (c_ubyte*1)(register), c_int(1), rgRX, c_int(1), byref(iNak))\n",
    "        return rgRX[0]\n",
    "    \n",
    "    def write_i2c(self, address, register, value):\n",
    "        self.dwf.FDwfDigitalI2cWrite(hdwf, c_int(address << 1), (c_ubyte*2)(register, value), c_int(2), byref(iNak))\n",
    "        \n",
    "    def close(self):\n",
    "        # disable power supply\n",
    "        self.dwf.FDwfAnalogIOEnableSet(hdwf, c_int(False))\n",
    "\n",
    "        # disconnect all connected devices\n",
    "        self.dwf.FDwfDeviceCloseAll()"
   ]
  }
 ],
 "metadata": {
  "kernelspec": {
   "display_name": "Python 3.10.6 64-bit",
   "language": "python",
   "name": "python3"
  },
  "language_info": {
   "codemirror_mode": {
    "name": "ipython",
    "version": 3
   },
   "file_extension": ".py",
   "mimetype": "text/x-python",
   "name": "python",
   "nbconvert_exporter": "python",
   "pygments_lexer": "ipython3",
   "version": "3.10.6"
  },
  "toc": {
   "base_numbering": 1,
   "nav_menu": {},
   "number_sections": true,
   "sideBar": true,
   "skip_h1_title": false,
   "title_cell": "Table of Contents",
   "title_sidebar": "Contents",
   "toc_cell": false,
   "toc_position": {},
   "toc_section_display": true,
   "toc_window_display": false
  },
  "vscode": {
   "interpreter": {
    "hash": "851e5d85b00d87746c91ffd2e467490f5a5752fb8cf07f02e24eb16fa6f8dc87"
   }
  }
 },
 "nbformat": 4,
 "nbformat_minor": 4
}
