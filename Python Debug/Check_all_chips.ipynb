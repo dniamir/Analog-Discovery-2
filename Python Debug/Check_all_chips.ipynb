{
 "cells": [
  {
   "cell_type": "code",
   "execution_count": null,
   "metadata": {},
   "outputs": [],
   "source": [
    "import numpy as np\n",
    "import pandas as pd\n",
    "import time\n",
    "import os\n",
    "import matplotlib.pyplot as plt\n",
    "# import dwf\n",
    "\n",
    "from ctypes import *\n",
    "\n",
    "%load_ext autoreload\n",
    "%autoreload 2"
   ]
  },
  {
   "cell_type": "code",
   "execution_count": null,
   "metadata": {},
   "outputs": [],
   "source": [
    "from chip_systems import AD2"
   ]
  },
  {
   "cell_type": "code",
   "execution_count": null,
   "metadata": {},
   "outputs": [],
   "source": [
    "interface = AD2.AD2_I2C(voltage=0, pin=0)\n",
    "# Green - DIO0 - SCL\n",
    "# Yellow - DIO1 - SDA"
   ]
  },
  {
   "cell_type": "code",
   "execution_count": null,
   "metadata": {},
   "outputs": [],
   "source": [
    "# Check BME680 WHOAMI - should be 97\n",
    "interface.ReadRegister(0b1110110, 0xD0, bytes_to_read=1)"
   ]
  },
  {
   "cell_type": "code",
   "execution_count": null,
   "metadata": {},
   "outputs": [],
   "source": [
    "# TSL 2591 - Should be 0x50\n",
    "def read_register(register):\n",
    "    command_bit = 0xA0\n",
    "    reg_val = interface.ReadRegister(0x29, command_bit | register, bytes_to_read=1)[0]\n",
    "    print(reg_val, '{:08b}'.format(reg_val), hex(reg_val))\n",
    "\n",
    "read_register(0x12)"
   ]
  },
  {
   "cell_type": "code",
   "execution_count": null,
   "metadata": {},
   "outputs": [],
   "source": [
    "# MAX17620 - Initial Value should be 0xA561, or 42337\n",
    "\n",
    "def ReadMax(register):\n",
    "\n",
    "    if type(register) == str:\n",
    "        register = reg_map[register][0]\n",
    "\n",
    "    lsb, msb = interface.ReadRegister(0x36, register, bytes_to_read=2)\n",
    "    decimal = (msb << 8) + lsb\n",
    "    binary = format(decimal, '016b')\n",
    "    binary = binary[:8] + ', ' + binary[8:]\n",
    "    return binary, decimal\n",
    "\n",
    "ReadMax(0x3A)"
   ]
  }
 ],
 "metadata": {
  "kernelspec": {
   "display_name": "Python 3.10.6 64-bit",
   "language": "python",
   "name": "python3"
  },
  "language_info": {
   "codemirror_mode": {
    "name": "ipython",
    "version": 3
   },
   "file_extension": ".py",
   "mimetype": "text/x-python",
   "name": "python",
   "nbconvert_exporter": "python",
   "pygments_lexer": "ipython3",
   "version": "3.10.6"
  },
  "toc": {
   "base_numbering": 1,
   "nav_menu": {},
   "number_sections": true,
   "sideBar": true,
   "skip_h1_title": false,
   "title_cell": "Table of Contents",
   "title_sidebar": "Contents",
   "toc_cell": false,
   "toc_position": {
    "height": "calc(100% - 180px)",
    "left": "10px",
    "top": "150px",
    "width": "248.4px"
   },
   "toc_section_display": true,
   "toc_window_display": true
  },
  "vscode": {
   "interpreter": {
    "hash": "851e5d85b00d87746c91ffd2e467490f5a5752fb8cf07f02e24eb16fa6f8dc87"
   }
  }
 },
 "nbformat": 4,
 "nbformat_minor": 4
}
