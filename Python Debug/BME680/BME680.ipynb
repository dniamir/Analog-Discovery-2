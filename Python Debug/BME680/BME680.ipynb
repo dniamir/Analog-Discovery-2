{
 "cells": [
  {
   "cell_type": "code",
   "execution_count": null,
   "metadata": {},
   "outputs": [],
   "source": [
    "import numpy as np\n",
    "import pandas as pd\n",
    "import time\n",
    "import os\n",
    "import matplotlib.pyplot as plt\n",
    "# import dwf\n",
    "\n",
    "from ctypes import *\n",
    "\n",
    "%load_ext autoreload\n",
    "%autoreload 2"
   ]
  },
  {
   "cell_type": "code",
   "execution_count": null,
   "metadata": {},
   "outputs": [],
   "source": [
    "from chip_systems import AD2"
   ]
  },
  {
   "cell_type": "code",
   "execution_count": null,
   "metadata": {},
   "outputs": [],
   "source": [
    "interface = AD2.AD2_I2C(voltage=0, pin=0)\n",
    "# Green - DIO0 - SCL\n",
    "# Yellow - DIO1 - SDA"
   ]
  },
  {
   "cell_type": "code",
   "execution_count": null,
   "metadata": {},
   "outputs": [],
   "source": [
    "# Check BME680 WHOAMI - should be 97\n",
    "interface.ReadRegister(0b1110110, 0xD0, bytes_to_read=1)"
   ]
  },
  {
   "cell_type": "code",
   "execution_count": null,
   "metadata": {},
   "outputs": [],
   "source": [
    "reg_map = {\"status\": [0x73, 0, 8, True],\n",
    "    \"reset\": [0xe0, 0, 8, True],\n",
    "    \"Config\": [0x75, 0, 8, True],\n",
    "    \"filter\": [0x75, 2, 3, True],\n",
    "    \"ctrl_meas\": [0x74, 0, 8, True],\n",
    "    \"osrs_t\": [0x74, 5, 3, True],\n",
    "    \"osrs_p\": [0x74, 2, 3, True],\n",
    "    \"mode\": [0x74, 0, 2, True],\n",
    "    \"osrs_h\": [0x72, 0, 3, True],\n",
    "    \"ctrl_gas_1\": [0x71, 0, 8, True],\n",
    "    \"ctrl_gas_0\": [0x70, 4, 2, True],\n",
    "    \"run_gas\": [0x71, 4, 1, True],\n",
    "    \"nb_conv\": [0x71, 0, 4, True],\n",
    "    \"heat_off\": [0x70, 3, 1, True],\n",
    "    \"gas_wait_9\": [0x6d, 0, 8, True],\n",
    "    \"gas_wait_8\": [0x6c, 0, 8, True],\n",
    "    \"gas_wait_7\": [0x6b, 0, 8, True],\n",
    "    \"gas_wait_6\": [0x6a, 0, 8, True],\n",
    "    \"gas_wait_5\": [0x69, 0, 8, True],\n",
    "    \"gas_wait_4\": [0x68, 0, 8, True],\n",
    "    \"gas_wait_3\": [0x67, 0, 8, True],\n",
    "    \"gas_wait_2\": [0x66, 0, 8, True],\n",
    "    \"gas_wait_1\": [0x65, 0, 8, True],\n",
    "    \"gas_wait_0\": [0x64, 0, 8, True],\n",
    "    \"res_heat_9\": [0x63, 0, 8, True],\n",
    "    \"res_heat_8\": [0x62, 0, 8, True],\n",
    "    \"res_heat_7\": [0x61, 0, 8, True],\n",
    "    \"res_heat_6\": [0x60, 0, 8, True],\n",
    "    \"res_heat_5\": [0x5f, 0, 8, True],\n",
    "    \"res_heat_4\": [0x5e, 0, 8, True],\n",
    "    \"res_heat_3\": [0x5d, 0, 8, True],\n",
    "    \"res_heat_2\": [0x5c, 0, 8, True],\n",
    "    \"res_heat_1\": [0x5b, 0, 8, True],\n",
    "    \"res_heat_0\": [0x5a, 0, 8, True],\n",
    "    \"gas_r_lsb\": [0x2b, 0, 8, True],\n",
    "    \"gas_r_msb\": [0x2a, 0, 8, True],\n",
    "    \"hum_lsb\": [0x26, 0, 8, True],\n",
    "    \"hum_msb\": [0x25, 0, 8, True],\n",
    "    \"temp_xlsb\": [0x24, 4, 4, True],\n",
    "    \"temp_lsb\": [0x23, 0, 8, True],\n",
    "    \"temp_msb\": [0x22, 0, 8, True],\n",
    "    \"press_xlsb\": [0x21, 4, 4, True],\n",
    "    \"press_lsb\": [0x20, 0, 8, True],\n",
    "    \"press_msb\": [0x1f, 0, 8, True],\n",
    "    \"Id\":      [0xd0, 0, 8, False],\n",
    "    \"chip_id\": [0xd0, 0, 8, False],\n",
    "    \"par_t1\":  [0xe9, 0, 8, False],\n",
    "    \"par_t2\": [0x8a, 0, 8, False],\n",
    "    \"par_t3\": [0x8c, 0, 8, False],\n",
    "    \"par_p1\": [0x8e, 0, 8, False],\n",
    "    \"par_p2\": [0x90, 0, 8, False],\n",
    "    \"par_p3\": [0x92, 0, 8, False],\n",
    "    \"par_p4\": [0x94, 0, 8, False],\n",
    "    \"par_p5\": [0x96, 0, 8, False],\n",
    "    \"par_p6\": [0x99, 0, 8, False],\n",
    "    \"par_p7\": [0x98, 0, 8, False],\n",
    "    \"par_p8\": [0x9c, 0, 8, False],\n",
    "    \"par_p9\": [0x9e, 0, 8, False],\n",
    "    \"par_p10\": [0xa0, 0, 8, False],\n",
    "    \"par_h1\": [0xe2, 0, 8, False],\n",
    "    \"par_h2\": [0xe1, 0, 8, False],\n",
    "    \"par_h3\": [0xe4, 0, 8, False],\n",
    "    \"par_h4\": [0xe5, 0, 8, False],\n",
    "    \"par_h5\": [0xe6, 0, 8, False],\n",
    "    \"par_h6\": [0xe7, 0, 8, False],\n",
    "    \"par_h7\": [0xe8, 0, 8, False],\n",
    "    \"par_g1\": [0xed, 0, 8, False],\n",
    "    \"par_g2\": [0xeb, 0, 8, False],\n",
    "    \"par_g3\": [0xee, 0, 8, False],\n",
    "    \"res_heat_range\": [0x2, 4, 2, False],\n",
    "    \"res_heat_val\": [0x0, 0, 8, False],\n",
    "    \"range_switching_error\": [0x4, 0, 8, False],\n",
    "    \"gas_range_r\": [0x2b, 0, 4, False],\n",
    "    \"heat_stab_r\": [0x2b, 4, 1, False],\n",
    "    \"gas_valid_r\": [0x2b, 5, 1, False],\n",
    "  }"
   ]
  },
  {
   "cell_type": "code",
   "execution_count": null,
   "metadata": {},
   "outputs": [],
   "source": [
    "def read_bme(register):\n",
    "\n",
    "    if type(register) == str:\n",
    "        register = reg_map[register][0]\n",
    "\n",
    "    byte_data = interface.ReadRegister(0b1110110, register, bytes_to_read=1)[0]\n",
    "    return byte_data, bin(byte_data), hex(byte_data)"
   ]
  },
  {
   "cell_type": "code",
   "execution_count": null,
   "metadata": {},
   "outputs": [],
   "source": [
    "def write_bme(register, value):\n",
    "\n",
    "    if type(register) == str:\n",
    "        register = reg_map[register][0]\n",
    "\n",
    "    interface.WriteRegister(0b1110110, register, value)"
   ]
  },
  {
   "cell_type": "code",
   "execution_count": null,
   "metadata": {},
   "outputs": [],
   "source": [
    "print(read_bme('press_msb'))  # Should be 0x80 by default\n",
    "print(read_bme('Id'))  # Should be 0x61)"
   ]
  },
  {
   "cell_type": "code",
   "execution_count": null,
   "metadata": {},
   "outputs": [],
   "source": [
    "read_bme('mode')"
   ]
  },
  {
   "cell_type": "code",
   "execution_count": null,
   "metadata": {},
   "outputs": [],
   "source": [
    "write_bme('mode', 0b10110101)\n",
    "read_bme('mode')"
   ]
  },
  {
   "cell_type": "code",
   "execution_count": null,
   "metadata": {},
   "outputs": [],
   "source": [
    "import pandas as pd\n",
    "import numpy as np\n",
    "import matplotlib.pyplot as plt"
   ]
  },
  {
   "cell_type": "code",
   "execution_count": null,
   "metadata": {},
   "outputs": [],
   "source": [
    "df = pd.read_csv('C:\\\\Users\\\\Darien\\\\Desktop\\\\BME680_Test5.txt')"
   ]
  },
  {
   "cell_type": "code",
   "execution_count": null,
   "metadata": {},
   "outputs": [],
   "source": [
    "x = df['Time'].values / 1e3\n",
    "# x = np.linspace(0, 0.050 * len(x), len(x))\n",
    "\n",
    "button = df[' Button'].values * -1 + 1\n",
    "bme_gas = df[' Gas'].values\n",
    "bme_humidity = df[' Humidity'].values\n",
    "bme_temperature = df[' Temperature'].values\n",
    "bme_pressure = df[' Pressure'].values\n",
    "scd_co2 = df[' CO2'].values\n",
    "scd_temperature = df[' SCD Temperature'].values\n",
    "scd_humidity = df[' SCD Humidity'].values\n",
    "\n",
    "plt.figure(figsize=(20,6))\n",
    "\n",
    "plt.subplot(2, 4, 1)\n",
    "plt.plot(x, bme_gas)\n",
    "plt.title('BME - Gas')\n",
    "plt.grid(True)\n",
    "plt.twinx()\n",
    "plt.plot(x, button, color='C1', alpha=0.3)\n",
    "\n",
    "plt.subplot(2, 4, 2)\n",
    "plt.plot(x, bme_humidity / 1e3)\n",
    "plt.title('BME - Humidity')\n",
    "plt.grid(True)\n",
    "plt.twinx()\n",
    "plt.plot(x, button, color='C1', alpha=0.3)\n",
    "\n",
    "plt.subplot(2, 4, 3)\n",
    "plt.plot(x, bme_temperature / 1e2)\n",
    "plt.title('BME - Temperature')\n",
    "plt.grid(True)\n",
    "plt.twinx()\n",
    "plt.plot(x, button, color='C1', alpha=0.3)\n",
    "\n",
    "plt.subplot(2, 4, 4)\n",
    "plt.plot(x, bme_pressure)\n",
    "plt.title('BME - Pressure')\n",
    "plt.grid(True)\n",
    "plt.twinx()\n",
    "plt.plot(x, button, color='C1', alpha=0.3)\n",
    "\n",
    "plt.subplot(2, 4, 5)\n",
    "plt.plot(x, scd_co2)\n",
    "plt.title('SCD - CO2')\n",
    "plt.grid(True)\n",
    "\n",
    "plt.subplot(2, 4, 6)\n",
    "plt.plot(x, scd_temperature)\n",
    "plt.title('SCD - Temperature')\n",
    "plt.grid(True)\n",
    "\n",
    "plt.subplot(2, 4, 7)\n",
    "plt.plot(x, scd_humidity)\n",
    "plt.title('SCD - Humidity')\n",
    "plt.grid(True)\n",
    "\n",
    "plt.tight_layout()"
   ]
  },
  {
   "cell_type": "code",
   "execution_count": null,
   "metadata": {},
   "outputs": [],
   "source": [
    "df = pd.read_csv('C:\\\\Users\\\\Darien\\\\Desktop\\\\BME680_OneBreath.txt')"
   ]
  },
  {
   "cell_type": "code",
   "execution_count": null,
   "metadata": {},
   "outputs": [],
   "source": [
    "x = df['Time'].values / 1e3\n",
    "# x = np.linspace(0, 0.050 * len(x), len(x))\n",
    "\n",
    "button = df[' Button'].values * -1 + 1\n",
    "bme_gas = df[' Gas'].values\n",
    "bme_humidity = df[' Humidity'].values\n",
    "bme_temperature = df[' Temperature'].values\n",
    "bme_pressure = df[' Pressure'].values\n",
    "scd_co2 = df[' CO2'].values\n",
    "scd_temperature = df[' SCD Temperature'].values\n",
    "scd_humidity = df[' SCD Humidity'].values\n",
    "\n",
    "plt.figure(figsize=(20,6))\n",
    "\n",
    "plt.subplot(2, 4, 1)\n",
    "plt.plot(x, bme_gas)\n",
    "plt.title('BME - Gas')\n",
    "plt.grid(True)\n",
    "plt.twinx()\n",
    "plt.plot(x, button, color='C1', alpha=0.3)\n",
    "\n",
    "plt.subplot(2, 4, 2)\n",
    "plt.plot(x, bme_humidity / 1e3)\n",
    "plt.title('BME - Humidity')\n",
    "plt.grid(True)\n",
    "plt.twinx()\n",
    "plt.plot(x, button, color='C1', alpha=0.3)\n",
    "\n",
    "plt.subplot(2, 4, 3)\n",
    "plt.plot(x, bme_temperature / 1e2)\n",
    "plt.title('BME - Temperature')\n",
    "plt.grid(True)\n",
    "plt.twinx()\n",
    "plt.plot(x, button, color='C1', alpha=0.3)\n",
    "\n",
    "plt.subplot(2, 4, 4)\n",
    "plt.plot(x, bme_pressure)\n",
    "plt.title('BME - Pressure')\n",
    "plt.grid(True)\n",
    "plt.twinx()\n",
    "plt.plot(x, button, color='C1', alpha=0.3)\n",
    "\n",
    "plt.subplot(2, 4, 5)\n",
    "plt.plot(x, scd_co2)\n",
    "plt.title('SCD - CO2')\n",
    "plt.grid(True)\n",
    "\n",
    "plt.subplot(2, 4, 6)\n",
    "plt.plot(x, scd_temperature)\n",
    "plt.title('SCD - Temperature')\n",
    "plt.grid(True)\n",
    "\n",
    "plt.subplot(2, 4, 7)\n",
    "plt.plot(x, scd_humidity)\n",
    "plt.title('SCD - Humidity')\n",
    "plt.grid(True)\n",
    "\n",
    "plt.tight_layout()"
   ]
  }
 ],
 "metadata": {
  "kernelspec": {
   "display_name": "Python 3.10.6 64-bit",
   "language": "python",
   "name": "python3"
  },
  "language_info": {
   "codemirror_mode": {
    "name": "ipython",
    "version": 3
   },
   "file_extension": ".py",
   "mimetype": "text/x-python",
   "name": "python",
   "nbconvert_exporter": "python",
   "pygments_lexer": "ipython3",
   "version": "3.10.6"
  },
  "toc": {
   "base_numbering": 1,
   "nav_menu": {},
   "number_sections": true,
   "sideBar": true,
   "skip_h1_title": false,
   "title_cell": "Table of Contents",
   "title_sidebar": "Contents",
   "toc_cell": false,
   "toc_position": {
    "height": "calc(100% - 180px)",
    "left": "10px",
    "top": "150px",
    "width": "248.4px"
   },
   "toc_section_display": true,
   "toc_window_display": true
  },
  "vscode": {
   "interpreter": {
    "hash": "851e5d85b00d87746c91ffd2e467490f5a5752fb8cf07f02e24eb16fa6f8dc87"
   }
  }
 },
 "nbformat": 4,
 "nbformat_minor": 4
}
