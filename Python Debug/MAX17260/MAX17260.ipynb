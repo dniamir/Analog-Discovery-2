{
 "cells": [
  {
   "cell_type": "code",
   "execution_count": null,
   "metadata": {},
   "outputs": [],
   "source": [
    "import numpy as np\n",
    "import pandas as pd\n",
    "import time\n",
    "import os\n",
    "import matplotlib.pyplot as plt\n",
    "# import dwf\n",
    "\n",
    "from ctypes import *\n",
    "\n",
    "%load_ext autoreload\n",
    "%autoreload 2"
   ]
  },
  {
   "cell_type": "code",
   "execution_count": null,
   "metadata": {},
   "outputs": [],
   "source": [
    "from chip_systems import AD2"
   ]
  },
  {
   "cell_type": "code",
   "execution_count": null,
   "metadata": {},
   "outputs": [],
   "source": [
    "interface = AD2.AD2_I2C(voltage=0, pin=0)\n",
    "# Green - DIO0 - SCL\n",
    "# Yellow - DIO1 - SDA"
   ]
  },
  {
   "cell_type": "code",
   "execution_count": null,
   "metadata": {},
   "outputs": [],
   "source": [
    "# Check BME680 WHOAMI - should be 97\n",
    "interface.ReadRegister(0b1110110, 0xD0, bytes_to_read=1)"
   ]
  },
  {
   "cell_type": "code",
   "execution_count": null,
   "metadata": {},
   "outputs": [],
   "source": [
    "# Register Map\n",
    "reg_map = {\"Status\": [0x00, 0, 16, False],\n",
    "\"Br\": [0x00, 15, 1, False],\n",
    "\"Smx\": [0x00, 14, 1, False],\n",
    "\"Tmx\": [0x00, 13, 1, False],\n",
    "\"Vmx\": [0x00, 12, 1, False],\n",
    "\"Bi\": [0x00, 11, 1, False],\n",
    "\"Smn\": [0x00, 10, 1, False],\n",
    "\"Tmn\": [0x00, 9, 1, False],\n",
    "\"Vmn\": [0x00, 8, 1, False],\n",
    "\"dSOCi\": [0x00, 7, 1, False],\n",
    "\"Imx\": [0x00, 6, 1, False],\n",
    "\"Bst\": [0x00, 3, 1, False],\n",
    "\"Imn\": [0x00, 2, 1, False],\n",
    "\"POR\": [0x00, 1, 1, False],\n",
    "\n",
    "\"Current\": [0x0A, 0, 16, False],\n",
    "\"AvgCurrent\": [0x0B, 0, 16, False],\n",
    "\n",
    "\"Temperature\": [0x08, 0, 16, False],\n",
    "\"AvgTemperature\": [0x16, 0, 16, False],\n",
    "\n",
    "\"VAlrtTh\": [0x01, 0, 16, False],\n",
    "\n",
    "\"IChgTerm\": [0x1E, 0, 16, False],\n",
    "\"DesignCap\": [0x18, 0, 16, False],\n",
    "\n",
    "\"VEmpty\": [0x03A, 0, 16, False],\n",
    "\"VE\": [0x03A, 7, 9, False],\n",
    "\"VR\": [0x01, 0, 7, False],\n",
    "\"VAlrtTh\": [0x01, 0, 16, False],\n",
    "\n",
    "\"ModelCFG\": [0xDB, 0, 16, False],\n",
    "\"Refresh\": [0xDB, 15, 1, False],\n",
    "\"R100\": [0xDB, 13, 1, False],\n",
    "\"VChg\": [0xDB, 10, 1, False],\n",
    "\"ModelID\": [0xDB, 4, 4, False],\n",
    "\"CSEL\": [0xDB, 2, 1, False],\n",
    "\n",
    "\"Config\": [0x1D, 0, 16, False],\n",
    "\"TSel\": [0x1D, 15, 1, False],\n",
    "\"SS\": [0x1D, 14, 1, False],\n",
    "\"TS\": [0x1D, 13, 1, False],\n",
    "\"VS\": [0x1D, 12, 1, False],\n",
    "\"IS\": [0x1D, 11, 1, False],\n",
    "\"THSH\": [0x1D, 10, 1, False],\n",
    "\"Ten\": [0x1D, 9, 1, False],\n",
    "\"Tex\": [0x1D, 8, 1, False],\n",
    "\"SHDN\": [0x1D, 7, 1, False],\n",
    "\"COMMSH\": [0x1D, 6, 1, False],\n",
    "\"ETHRM\": [0x1D, 4, 1, False],\n",
    "\"FTHRM\": [0x1D, 3, 1, False],\n",
    "\"Aen\": [0x1D, 2, 1, False],\n",
    "\"Bei\": [0x1D, 1, 1, False],\n",
    "\"Ber\": [0x1D, 0, 1, False],\n",
    "\n",
    "\"Config2\": [0xBB, 0, 16, False],\n",
    "\"AltRateEn\": [0xBB, 13, 1, False],\n",
    "\"DPEn\": [0xBB, 12, 1, False],\n",
    "\"POWR\": [0xBB, 8, 4, False],\n",
    "\"dSOCen\": [0xBB, 7, 1, False],\n",
    "\"TAIrtEn\": [0xBB, 6, 1, False],\n",
    "\"LDMdl\": [0xBB, 5, 1, False],\n",
    "\"DRCfg\": [0xBB, 2, 2, False],\n",
    "\"CPMode\": [0xBB, 1, 1, False],\n",
    "\n",
    "\"RepCap\": [0x05, 0, 16, False],\n",
    "\"RepSOC\": [0x06, 0, 16, False],\n",
    "\"FullCapRep\": [0x10, 0, 16, False],\n",
    "\"TTE\": [0x11, 0, 16, False],\n",
    "\"TTF\": [0x20, 0, 16, False],\n",
    "\n",
    "\"VCell\": [0x09, 0, 16, False],\n",
    "\"AvgVCell\": [0x19, 0, 16, False],\n",
    "\"MaxMinVolt\": [0xFF, 0, 16, False],\n",
    "\"MaxVCELL\": [0xFF, 8, 8, False],\n",
    "\"MinVCELL\": [0xFF, 0, 8, False],\n",
    "\n",
    "\"FStat\": [0x3D, 0, 16, False],\n",
    "\"HibCfg\": [0xBA, 0, 16, False]}"
   ]
  },
  {
   "cell_type": "code",
   "execution_count": null,
   "metadata": {},
   "outputs": [],
   "source": [
    "def ReadMax(register):\n",
    "\n",
    "    if type(register) == str:\n",
    "        register = reg_map[register][0]\n",
    "\n",
    "    lsb, msb = interface.ReadRegister(0x36, register, bytes_to_read=2)\n",
    "    decimal = (msb << 8) + lsb\n",
    "    binary = format(decimal, '016b')\n",
    "    binary = binary[:8] + ', ' + binary[8:]\n",
    "    return binary, decimal"
   ]
  },
  {
   "cell_type": "code",
   "execution_count": null,
   "metadata": {},
   "outputs": [],
   "source": [
    "def WriteMax(register, value):\n",
    "\n",
    "    if type(register) == str:\n",
    "        register = reg_map[register][0]\n",
    "\n",
    "    interface.WriteRegister16(0x36, register, value)"
   ]
  },
  {
   "cell_type": "code",
   "execution_count": null,
   "metadata": {},
   "outputs": [],
   "source": [
    "DesignCap = 2000  # mAh\n",
    "IchgTerm = 10  # mA\n",
    "VEmpty = 3.0   # Minimum Voltage\n",
    "VRecovery = 3.7\n",
    "ChargeVoltage = 4.2\n",
    "\n",
    "sec_per_lsb = 5.625\n",
    "per_per_lsb = 1.0 / 256.0\n",
    "mah_per_lsb = 0.5\n",
    "ua_per_lsb = 156.25\n",
    "v_per_lsb =  78.125 * 1e-6\n",
    "v_empty_per_lsb = 10.0 * 1e-3  # V / LSB\n",
    "v_recovery_per_lsb = 40.0 * 1e-3  # V / LSB\n",
    "i_term_per_lsb = 1.0 / 6.4  # mA / LSB\n",
    "degc_per_lsb = 1.0 / 256.0\n",
    "\n",
    "# Scale factor for VEmpty\n",
    "VE = int(VEmpty / v_empty_per_lsb)  # Empty Voltage - resolution is 10mV / LSB\n",
    "VR = VRecovery / v_recovery_per_lsb  # Recovery Voltage (voltage for clearing empty detection) - resolution is 40mV / LSB\n",
    "VEmpty = int((VE << 7) + VR)\n",
    "\n",
    "# Scale factor for IchgTerm\n",
    "IchgTerm = int(IchgTerm / i_term_per_lsb)\n",
    "\n",
    "# Make sure POR is 1\n",
    "if (ReadMax(\"POR\")[1]):\n",
    "\n",
    "    while(ReadMax(\"FStat\")[1] & 1):\n",
    "        time.sleep(10 / 1e3)\n",
    "    \n",
    "    \n",
    "    HibCFG = ReadMax(\"HibCfg\")[1]\n",
    "    WriteMax(0x60, 0x90) # Exit Hibernate Mode step 1\n",
    "    WriteMax(\"HibCfg\", 0x0) # Exit Hibernate Mode step 2\n",
    "    WriteMax(0x60, 0x0) # Exit Hibernate Mode step 3\n",
    "\n",
    "    WriteMax(\"DesignCap\", DesignCap) # Write DesignCap\n",
    "    WriteMax(\"IChgTerm\", IchgTerm) # Write IchgTerm\n",
    "    WriteMax(\"VEmpty\", VEmpty) # Write VEmpty\n",
    "    if (ChargeVoltage > 4.275):\n",
    "        WriteMax(\"ModelCFG\", 0x8400) # Write ModelCFG\n",
    "    else:\n",
    "        WriteMax(\"ModelCFG\", 0x8000) # Write ModelCFG\n",
    "    \n",
    "    #Poll ModelCFG.Refresh(highest bit),\n",
    "    #proceed to Step 3 when ModelCFG.Refresh=0.\n",
    "    while (ReadMax(\"Refresh\")[1]):\n",
    "        time.sleep(10 / 1e3)\n",
    "\n",
    "    WriteMax(\"HibCfg\", HibCFG) # Restore Original HibCFG value\n",
    "\n",
    "    # Set Temperature measurement to thermistor\n",
    "    WriteMax(\"TSel\", 1)\n",
    "\n",
    "    # Clear POR Bit\n",
    "    WriteMax(\"POR\", 0)"
   ]
  },
  {
   "cell_type": "code",
   "execution_count": null,
   "metadata": {},
   "outputs": [],
   "source": [
    "import sys\n",
    "\n",
    "\n",
    "def twos(val_str, bytes):\n",
    "    val_str = val_str.replace(', ', '')\n",
    "    val = int(val_str, 2)\n",
    "    b = val.to_bytes(bytes, byteorder=sys.byteorder, signed=False)                                                          \n",
    "    return int.from_bytes(b, byteorder=sys.byteorder, signed=True)"
   ]
  },
  {
   "cell_type": "code",
   "execution_count": null,
   "metadata": {},
   "outputs": [],
   "source": [
    "# Step 3.2: Read the RepCap and RepSOC Registers\n",
    "\n",
    "print(ReadMax(0x06)[1] * per_per_lsb)  # RepSOC - Percent\n",
    "print(ReadMax(0x09)[1] * 78.125 * 1e-6)  # Battery Voltage \n",
    "print(twos(ReadMax('Current')[0], 2) / 1e3 * ua_per_lsb)  # Current mA\n",
    "print(twos(ReadMax('AvgCurrent')[0], 2) / 1e3 * ua_per_lsb)  # Average Current mA"
   ]
  },
  {
   "cell_type": "code",
   "execution_count": null,
   "metadata": {},
   "outputs": [],
   "source": [
    "print(ReadMax(0x05)[1] * mah_per_lsb)  # RepCap - mAh\n",
    "print(ReadMax(0x11)[1] * sec_per_lsb / 60 / 60)  # TTE  - Sec but i'm converting to hours - time to empty \n",
    "print(ReadMax(0x20)[1] * sec_per_lsb / 60 / 60)  # TTF  - Sec but i'm converting to hours - time to full (while charging) "
   ]
  },
  {
   "cell_type": "markdown",
   "metadata": {},
   "source": [
    "## Check Status"
   ]
  },
  {
   "cell_type": "code",
   "execution_count": null,
   "metadata": {},
   "outputs": [],
   "source": [
    "# Reference\n",
    "# https:#pdfserv.maximintegrated.com/en/an/ug6595-modelgauge-m5-host-side-software-implementation-guide.pdf"
   ]
  },
  {
   "cell_type": "code",
   "execution_count": null,
   "metadata": {},
   "outputs": [],
   "source": [
    "time_array = np.array(time_array)\n",
    "capacity = np.array(capacity)\n",
    "percent_level = np.array(percent_level)\n",
    "tte = np.array(tte)\n",
    "ttg = np.array(ttg)\n",
    "\n",
    "time_processed = time_array - time_array[0]\n",
    "\n",
    "plt.figure(figsize=(15, 6))\n",
    "\n",
    "plt.subplot(2, 2, 1)\n",
    "plt.plot(np.delete(time_processed, idxs) / 60 / 60, np.delete(capacity, idxs))\n",
    "plt.grid(True)\n",
    "plt.title('Capacity')\n",
    "plt.xlabel('Time [hours]')\n",
    "plt.ylabel('Capacity [mAh]')\n",
    "\n",
    "plt.subplot(2, 2, 2)\n",
    "plt.plot(np.delete(time_processed, idxs) / 60 / 60, np.delete(percent_level, idxs))\n",
    "plt.grid(True)\n",
    "plt.title('Percent Level')\n",
    "plt.xlabel('Time [hours]')\n",
    "plt.ylabel('Battery Level (%)')\n",
    "\n",
    "plt.subplot(2, 2, 3)\n",
    "plt.plot(np.delete(time_processed, idxs) / 60 / 60, np.delete(tte, idxs) / 60 / 60)\n",
    "plt.grid(True)\n",
    "plt.title('Time Till Empty')\n",
    "plt.xlabel('Time [hours]')\n",
    "plt.ylabel('Hours')\n",
    "\n",
    "plt.subplot(2, 2, 4)\n",
    "plt.plot(np.delete(time_processed, idxs) / 60 / 60, np.delete(ttg, idxs) / 60 / 60)\n",
    "plt.grid(True)\n",
    "plt.title('Time Till Full')\n",
    "plt.xlabel('Time [hours]')\n",
    "plt.ylabel('Hours')\n",
    "\n",
    "plt.tight_layout()\n",
    "\n",
    "# plt.savefig('Battery_Check_WeatherStick3.png', dpi=200)"
   ]
  }
 ],
 "metadata": {
  "kernelspec": {
   "display_name": "Python 3.10.6 64-bit",
   "language": "python",
   "name": "python3"
  },
  "language_info": {
   "codemirror_mode": {
    "name": "ipython",
    "version": 3
   },
   "file_extension": ".py",
   "mimetype": "text/x-python",
   "name": "python",
   "nbconvert_exporter": "python",
   "pygments_lexer": "ipython3",
   "version": "3.10.6"
  },
  "toc": {
   "base_numbering": 1,
   "nav_menu": {},
   "number_sections": true,
   "sideBar": true,
   "skip_h1_title": false,
   "title_cell": "Table of Contents",
   "title_sidebar": "Contents",
   "toc_cell": false,
   "toc_position": {
    "height": "calc(100% - 180px)",
    "left": "10px",
    "top": "150px",
    "width": "248.4px"
   },
   "toc_section_display": true,
   "toc_window_display": true
  },
  "vscode": {
   "interpreter": {
    "hash": "851e5d85b00d87746c91ffd2e467490f5a5752fb8cf07f02e24eb16fa6f8dc87"
   }
  }
 },
 "nbformat": 4,
 "nbformat_minor": 4
}
